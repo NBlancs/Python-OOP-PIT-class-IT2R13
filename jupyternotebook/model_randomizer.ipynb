{
 "cells": [
  {
   "cell_type": "code",
   "execution_count": 2,
   "metadata": {
    "trusted": true
   },
   "outputs": [],
   "source": [
    "from typing import List, Dict, Any\n",
    "import random"
   ]
  },
  {
   "cell_type": "markdown",
   "metadata": {},
   "source": [
    "Import List, Dict, and Any Data type from typing module. Moreover, also imports the random module for generating random numbers"
   ]
  },
  {
   "cell_type": "code",
   "execution_count": 4,
   "metadata": {
    "trusted": true
   },
   "outputs": [],
   "source": [
    "class Randomizer:\n",
    "    def __init__(self):\n",
    "        self.inputs: List[str | int] = []\n",
    "        self.results: List[str | int] = []"
   ]
  },
  {
   "cell_type": "markdown",
   "metadata": {},
   "source": [
    "The Randomizer class initializes with two attributes, inputs and results, both of which are lists that can contain either strings or integers."
   ]
  },
  {
   "cell_type": "code",
   "execution_count": 5,
   "metadata": {
    "trusted": true
   },
   "outputs": [],
   "source": [
    "    def add_input(self, input_data: str | int):\n",
    "        self.inputs.append(input_data)"
   ]
  },
  {
   "cell_type": "markdown",
   "metadata": {},
   "source": [
    "Adds a single input to the list."
   ]
  },
  {
   "cell_type": "code",
   "execution_count": 7,
   "metadata": {
    "trusted": true
   },
   "outputs": [],
   "source": [
    "    def add_inputs(self, input_list: List[str | int]):\n",
    "        self.inputs.extend(input_list)"
   ]
  },
  {
   "cell_type": "markdown",
   "metadata": {},
   "source": [
    "Adds multiple inputs to the list.\n"
   ]
  },
  {
   "cell_type": "code",
   "execution_count": 8,
   "metadata": {
    "trusted": true
   },
   "outputs": [],
   "source": [
    "    def clear_inputs(self):\n",
    "        self.inputs.clear()"
   ]
  },
  {
   "cell_type": "markdown",
   "metadata": {},
   "source": [
    "Clears all inputs."
   ]
  },
  {
   "cell_type": "code",
   "execution_count": 9,
   "metadata": {
    "trusted": true
   },
   "outputs": [],
   "source": [
    "    def get_results(self) -> List[str | int]:\n",
    "        return self.results"
   ]
  },
  {
   "cell_type": "markdown",
   "metadata": {},
   "source": [
    "Returns the results."
   ]
  },
  {
   "cell_type": "code",
   "execution_count": 11,
   "metadata": {
    "trusted": true
   },
   "outputs": [],
   "source": [
    "class GroupRandomizer(Randomizer):\n",
    "    def __init__(self):\n",
    "        super().__init__()\n",
    "        self.group_size: int = 0\n",
    "        self.number_of_groups: int = 0"
   ]
  },
  {
   "cell_type": "markdown",
   "metadata": {},
   "source": [
    "The GroupRandomizer class inherits from the Randomizer class and initializes with two additional attributes, group_size and number_of_groups, both set to 0."
   ]
  },
  {
   "cell_type": "code",
   "execution_count": null,
   "metadata": {
    "trusted": true
   },
   "outputs": [],
   "source": [
    "    def set_group_size(self, size: int):\n",
    "        self.group_size = size"
   ]
  },
  {
   "cell_type": "markdown",
   "metadata": {},
   "source": [
    "Sets the desired group size"
   ]
  },
  {
   "cell_type": "code",
   "execution_count": 13,
   "metadata": {
    "trusted": true
   },
   "outputs": [],
   "source": [
    "    def set_number_of_groups(self, count: int):\n",
    "        self.number_of_groups = count"
   ]
  },
  {
   "cell_type": "markdown",
   "metadata": {},
   "source": [
    "Sets the desired number of groups."
   ]
  },
  {
   "cell_type": "code",
   "execution_count": 14,
   "metadata": {
    "trusted": true
   },
   "outputs": [],
   "source": [
    "    def generate_groups(self) -> List[List[str | int]]:\n",
    "        random.shuffle(self.inputs)\n",
    "        if self.group_size > 0:\n",
    "            self.results = [self.inputs[i:i + self.group_size] for i in range(0, len(self.inputs), self.group_size)]\n",
    "        elif self.number_of_groups > 0:\n",
    "            self.results = [self.inputs[i::self.number_of_groups] for i in range(self.number_of_groups)]\n",
    "        else:\n",
    "            self.results = []\n",
    "        return self.results"
   ]
  },
  {
   "cell_type": "markdown",
   "metadata": {},
   "source": [
    "Randomly divides inputs into groups based on group_size or number_of_groups."
   ]
  },
  {
   "cell_type": "code",
   "execution_count": 17,
   "metadata": {
    "trusted": true
   },
   "outputs": [],
   "source": [
    "class ShuffleRandomizer(Randomizer):\n",
    "    def shuffle_items(self) -> List[str | int]:\n",
    "        self.results = self.inputs[:]\n",
    "        random.shuffle(self.results)\n",
    "        return self.results"
   ]
  },
  {
   "cell_type": "markdown",
   "metadata": {},
   "source": [
    "Randomly shuffles the order of the inputs and updates results."
   ]
  },
  {
   "cell_type": "code",
   "execution_count": 18,
   "metadata": {
    "trusted": true
   },
   "outputs": [],
   "source": [
    "class OutputGenerator(Randomizer):\n",
    "    def __init__(self):\n",
    "        super().__init__()\n",
    "        self.output_type: str = \"\"\n",
    "        self.constraints: Dict[str, Any] = {}"
   ]
  },
  {
   "cell_type": "markdown",
   "metadata": {},
   "source": [
    "The OutputGenerator class inherits from the Randomizer class and initializes with two additional attributes, output_type (a string) and constraints (a dictionary with string keys and values of any type)."
   ]
  },
  {
   "cell_type": "code",
   "execution_count": 19,
   "metadata": {
    "trusted": true
   },
   "outputs": [],
   "source": [
    "    def set_output_type(self, type: str):\n",
    "        self.output_type = type"
   ]
  },
  {
   "cell_type": "markdown",
   "metadata": {},
   "source": [
    "Sets the type of output to generate."
   ]
  },
  {
   "cell_type": "code",
   "execution_count": 20,
   "metadata": {
    "trusted": true
   },
   "outputs": [],
   "source": [
    "    def set_constraints(self, constraints: Dict[str, Any]):\n",
    "        self.constraints = constraints"
   ]
  },
  {
   "cell_type": "markdown",
   "metadata": {},
   "source": [
    "Configures generation constraints."
   ]
  },
  {
   "cell_type": "code",
   "execution_count": 21,
   "metadata": {
    "trusted": true
   },
   "outputs": [],
   "source": [
    "    def generate_output(self, count: int = 1) -> List[Any]:\n",
    "        self.results = []\n",
    "        if self.output_type == \"number\":\n",
    "            start, end = self.constraints.get(\"range\", (0, 10))\n",
    "            self.results = [random.randint(start, end) for _ in range(count)]\n",
    "        elif self.output_type == \"letter\":\n",
    "            charset = self.constraints.get(\"charset\", \"abcdefghijklmnopqrstuvwxyz\")\n",
    "            self.results = [random.choice(charset) for _ in range(count)]\n",
    "        elif self.output_type == \"custom\":\n",
    "            options = self.constraints.get(\"options\", [])\n",
    "            self.results = [random.choice(options) for _ in range(count)]\n",
    "        return self.results"
   ]
  },
  {
   "cell_type": "markdown",
   "metadata": {},
   "source": [
    "Generates one or more random outputs based on the type and constraints."
   ]
  },
  {
   "cell_type": "code",
   "execution_count": 22,
   "metadata": {
    "trusted": true
   },
   "outputs": [],
   "source": [
    "class Preferences:\n",
    "    def __init__(self):\n",
    "        self.allow_duplicates: bool = True"
   ]
  },
  {
   "cell_type": "markdown",
   "metadata": {},
   "source": [
    "The Preferences class initializes with an attribute allow_duplicates, which is a boolean set to True by default."
   ]
  },
  {
   "cell_type": "code",
   "execution_count": 23,
   "metadata": {
    "trusted": true
   },
   "outputs": [],
   "source": [
    "    def toggle_duplicates(self, allow: bool):\n",
    "        self.allow_duplicates = allow"
   ]
  },
  {
   "cell_type": "markdown",
   "metadata": {},
   "source": [
    "Enables or disables duplicate results."
   ]
  },
  {
   "cell_type": "code",
   "execution_count": 25,
   "metadata": {
    "trusted": true
   },
   "outputs": [],
   "source": [
    "class ResultDisplay:\n",
    "    @staticmethod\n",
    "    def display_on_screen(results: List[Any]):\n",
    "        for index, result in enumerate(results, start=1):\n",
    "            print(f\"Result {index}: {result}\")"
   ]
  },
  {
   "cell_type": "markdown",
   "metadata": {},
   "source": [
    "Displays results."
   ]
  }
 ],
 "metadata": {
  "kernelspec": {
   "display_name": "Python (Pyodide)",
   "language": "python",
   "name": "python"
  },
  "language_info": {
   "codemirror_mode": {
    "name": "python",
    "version": 3
   },
   "file_extension": ".py",
   "mimetype": "text/x-python",
   "name": "python",
   "nbconvert_exporter": "python",
   "pygments_lexer": "ipython3",
   "version": "3.8"
  }
 },
 "nbformat": 4,
 "nbformat_minor": 4
}
