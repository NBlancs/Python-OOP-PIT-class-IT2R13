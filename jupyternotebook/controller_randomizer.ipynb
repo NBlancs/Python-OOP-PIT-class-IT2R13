{
 "cells": [
  {
   "cell_type": "code",
   "execution_count": null,
   "metadata": {
    "trusted": true
   },
   "outputs": [],
   "source": [
    "from model import ShuffleRandomizer, GroupRandomizer, Preferences\n",
    "from tkinter import Text, Toplevel, Label, Entry, Button, Checkbutton, BooleanVar"
   ]
  },
  {
   "cell_type": "markdown",
   "metadata": {},
   "source": [
    "Imports specific classes from model and various widgets from tkinter for creating GUIs in Python."
   ]
  },
  {
   "cell_type": "code",
   "execution_count": null,
   "metadata": {},
   "outputs": [],
   "source": [
    "preferences = Preferences()"
   ]
  },
  {
   "cell_type": "markdown",
   "metadata": {},
   "source": [
    "Intialize preferences"
   ]
  },
  {
   "cell_type": "code",
   "execution_count": null,
   "metadata": {
    "trusted": true
   },
   "outputs": [],
   "source": [
    "def enterBtn(entry_1: Text, entry_2: Text, shuffle_option: str, allow_duplicates: bool = True, group_size: int = None, number_of_groups: int = None):\n",
    "    # Get input from entry_1\n",
    "    input_text = entry_1.get(\"1.0\", \"end-1c\")\n",
    "    # Split input by commas and remove any extra whitespace\n",
    "    inputs = [item.strip() for item in input_text.split(\",\") if item.strip()]\n",
    "    \n",
    "    if shuffle_option == \"Multiple Output\":\n",
    "        randomizer = GroupRandomizer(allow_duplicates=allow_duplicates)\n",
    "        randomizer.add_inputs(inputs)\n",
    "        randomizer.set_group_size(2)\n",
    "        results = randomizer.generate_groups()\n",
    "        results = [\", \".join(map(str, group)) for group in results]\n",
    "        entry_2.delete(\"1.0\", \"end\")\n",
    "        entry_2.insert(\"1.0\", \"\\n\".join(results))\n",
    "    elif shuffle_option == \"Group Output\":\n",
    "        randomizer = GroupRandomizer(allow_duplicates=allow_duplicates)\n",
    "        randomizer.add_inputs(inputs)\n",
    "        if group_size:\n",
    "            randomizer.set_group_size(group_size)\n",
    "        if number_of_groups:\n",
    "            randomizer.set_number_of_groups(number_of_groups)\n",
    "        results = randomizer.generate_groups()\n",
    "        results = [\", \".join(map(str, group)) for group in results]\n",
    "        entry_2.delete(\"1.0\", \"end\")\n",
    "        entry_2.insert(\"1.0\", \"\\n\".join(results))\n",
    "    else:\n",
    "        randomizer = ShuffleRandomizer(allow_duplicates=allow_duplicates)\n",
    "        randomizer.add_inputs(inputs)\n",
    "        results = randomizer.shuffle_items()\n",
    "        entry_2.delete(\"1.0\", \"end\")\n",
    "        entry_2.insert(\"1.0\", \", \".join(map(str, results)))"
   ]
  },
  {
   "cell_type": "markdown",
   "metadata": {},
   "source": [
    "Method when the enter button is clicked."
   ]
  },
  {
   "cell_type": "code",
   "execution_count": null,
   "metadata": {
    "trusted": true
   },
   "outputs": [],
   "source": [
    "def settingsBtn(main_window):\n",
    "    settings_window = Toplevel(main_window)\n",
    "    settings_window.title(\"Settings\")\n",
    "    settings_window.geometry(\"300x150\")\n",
    "    settings_window.configure(bg=\"#FFFFFF\")\n",
    "\n",
    "    # Center the settings window\n",
    "    window_width = main_window.winfo_width()\n",
    "    window_height = main_window.winfo_height()\n",
    "    settings_window_width = 300\n",
    "    settings_window_height = 150\n",
    "    position_right = int(main_window.winfo_x() + (window_width / 2) - (settings_window_width / 2))\n",
    "    position_down = int(main_window.winfo_y() + (window_height / 2) - (settings_window_height / 2))\n",
    "    settings_window.geometry(f\"{settings_window_width}x{settings_window_height}+{position_right}+{position_down}\")\n",
    "\n",
    "    # Checkbox for \"Do Not Allow Duplicates\"\n",
    "    allow_duplicates_var = BooleanVar(value=not preferences.allow_duplicates)\n",
    "\n",
    "    def on_checkbox_toggled():\n",
    "        preferences.allow_duplicates = not allow_duplicates_var.get()\n",
    "\n",
    "    checkbox = Checkbutton(settings_window, text=\"Do Not Allow Duplicates\", bg=\"#FFFFFF\",\n",
    "                           variable=allow_duplicates_var, command=on_checkbox_toggled)\n",
    "    checkbox.pack(pady=10)\n",
    "\n",
    "    def go_back():\n",
    "        settings_window.destroy()\n",
    "\n",
    "    back_button = Button(settings_window, text=\"Back\", command=go_back)\n",
    "    back_button.pack(pady=10)"
   ]
  },
  {
   "cell_type": "markdown",
   "metadata": {},
   "source": [
    "Method when the settings button is clicked."
   ]
  },
  {
   "cell_type": "code",
   "execution_count": null,
   "metadata": {
    "trusted": true
   },
   "outputs": [],
   "source": [
    "def clear_text_area(entry: Text, entry1: Text):\n",
    "    entry.delete('1.0', 'end')\n",
    "    entry1.delete('1.0', 'end')\n",
    "\n",
    "def clearBtn(entry: Text, entry1: Text):\n",
    "    clear_text_area(entry, entry1)"
   ]
  },
  {
   "cell_type": "markdown",
   "metadata": {},
   "source": [
    "Method when the clear button is clicked."
   ]
  }
 ],
 "metadata": {
  "kernelspec": {
   "display_name": "Python (Pyodide)",
   "language": "python",
   "name": "python"
  },
  "language_info": {
   "codemirror_mode": {
    "name": "python",
    "version": 3
   },
   "file_extension": ".py",
   "mimetype": "text/x-python",
   "name": "python",
   "nbconvert_exporter": "python",
   "pygments_lexer": "ipython3",
   "version": "3.8"
  }
 },
 "nbformat": 4,
 "nbformat_minor": 4
}
