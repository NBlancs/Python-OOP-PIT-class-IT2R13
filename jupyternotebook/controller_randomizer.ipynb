{
  "metadata": {
    "kernelspec": {
      "name": "python",
      "display_name": "Python (Pyodide)",
      "language": "python"
    },
    "language_info": {
      "codemirror_mode": {
        "name": "python",
        "version": 3
      },
      "file_extension": ".py",
      "mimetype": "text/x-python",
      "name": "python",
      "nbconvert_exporter": "python",
      "pygments_lexer": "ipython3",
      "version": "3.8"
    }
  },
  "nbformat_minor": 4,
  "nbformat": 4,
  "cells": [
    {
      "cell_type": "code",
      "source": "from model import Randomizer, GroupRandomizer,OutputGenerator,Preferences,ShuffleRandomizer, ResultDisplay\nfrom tkinter import Menu",
      "metadata": {
        "trusted": true
      },
      "outputs": [],
      "execution_count": null
    },
    {
      "cell_type": "markdown",
      "source": "Imports necessary classes from model.py\n",
      "metadata": {}
    },
    {
      "cell_type": "code",
      "source": "def enterBtn():\n    print(\"Enter Button Clicked From controller\")",
      "metadata": {
        "trusted": true
      },
      "outputs": [],
      "execution_count": 3
    },
    {
      "cell_type": "markdown",
      "source": "Method when the enter button is clicked.",
      "metadata": {}
    },
    {
      "cell_type": "code",
      "source": "def shuffleBtn():\n    print(\"Shuffle Button Clicked From controller\")",
      "metadata": {
        "trusted": true
      },
      "outputs": [],
      "execution_count": 4
    },
    {
      "cell_type": "markdown",
      "source": "Method when the shuffle button is clicked.",
      "metadata": {}
    },
    {
      "cell_type": "code",
      "source": "def settingsBtn():\n    print(\"Settings Button Clicked from controller\")",
      "metadata": {
        "trusted": true
      },
      "outputs": [],
      "execution_count": 5
    },
    {
      "cell_type": "markdown",
      "source": "Method when the settings button is clicked.",
      "metadata": {}
    },
    {
      "cell_type": "code",
      "source": "def clearBtn():\n    print(\"Clear Button Clicked from controller\")",
      "metadata": {
        "trusted": true
      },
      "outputs": [],
      "execution_count": 6
    },
    {
      "cell_type": "markdown",
      "source": "Method when the clear button is clicked.",
      "metadata": {}
    }
  ]
}